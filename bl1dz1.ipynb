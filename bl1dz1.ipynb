{
 "cells": [
  {
   "cell_type": "markdown",
   "metadata": {},
   "source": [
    "## HW 1"
   ]
  },
  {
   "cell_type": "code",
   "execution_count": 77,
   "metadata": {},
   "outputs": [],
   "source": [
    "import numpy as np"
   ]
  },
  {
   "cell_type": "markdown",
   "metadata": {},
   "source": [
    "## Point 1 "
   ]
  },
  {
   "cell_type": "code",
   "execution_count": 78,
   "metadata": {},
   "outputs": [
    {
     "name": "stdout",
     "output_type": "stream",
     "text": [
      "[ 1  2  3  4  5  6  7  8  9 10]\n"
     ]
    }
   ],
   "source": [
    "a1 = np.array(range (1, 11))\n",
    "print(a1)"
   ]
  },
  {
   "cell_type": "markdown",
   "metadata": {},
   "source": [
    "## Point 2"
   ]
  },
  {
   "cell_type": "code",
   "execution_count": 79,
   "metadata": {},
   "outputs": [
    {
     "name": "stdout",
     "output_type": "stream",
     "text": [
      "[[0 0 0]\n",
      " [0 0 0]\n",
      " [0 0 0]]\n"
     ]
    }
   ],
   "source": [
    "a2 = np.zeros((3, 3), dtype=int)\n",
    "print(a2)"
   ]
  },
  {
   "cell_type": "markdown",
   "metadata": {},
   "source": [
    "## Point 3"
   ]
  },
  {
   "cell_type": "code",
   "execution_count": 80,
   "metadata": {},
   "outputs": [
    {
     "name": "stdout",
     "output_type": "stream",
     "text": [
      "[[ 5  8  7  1  4]\n",
      " [ 4  9  7  3  2]\n",
      " [ 3  5  5  9  2]\n",
      " [ 2  8 10  5  8]\n",
      " [ 2 10  9  3  1]]\n"
     ]
    }
   ],
   "source": [
    "a3 = np.random.randint(1, 11, size=(5, 5))\n",
    "print(a3)\n"
   ]
  },
  {
   "cell_type": "markdown",
   "metadata": {},
   "source": [
    "## Point 4"
   ]
  },
  {
   "cell_type": "code",
   "execution_count": 81,
   "metadata": {},
   "outputs": [
    {
     "name": "stdout",
     "output_type": "stream",
     "text": [
      "[[0.6060918  0.22626895 0.66625254 0.8078977 ]\n",
      " [0.96529603 0.59816587 0.90312365 0.68593189]\n",
      " [0.21015016 0.12294786 0.35328551 0.24545597]\n",
      " [0.41450902 0.62556586 0.71239824 0.37675312]]\n"
     ]
    }
   ],
   "source": [
    "a4 = np.random.rand(4, 4)\n",
    "print(a4)\n"
   ]
  },
  {
   "cell_type": "markdown",
   "metadata": {},
   "source": [
    "## Point 5"
   ]
  },
  {
   "cell_type": "code",
   "execution_count": 82,
   "metadata": {},
   "outputs": [
    {
     "name": "stdout",
     "output_type": "stream",
     "text": [
      "Масив 1: [6 2 4 8 1]\n",
      "Масив 2: [7 9 1 2 2]\n",
      "Додавання: [13 11  5 10  3]\n",
      "Віднімання: [-1 -7  3  6 -1]\n",
      "Множення: [42 18  4 16  2]\n"
     ]
    }
   ],
   "source": [
    "b1 = np.random.randint(1, 11, size=5)\n",
    "b2 = np.random.randint(1, 11, size=5)\n",
    "\n",
    "print(\"Масив 1:\", b1)\n",
    "print(\"Масив 2:\", b2)\n",
    "\n",
    "sum = b1+b2\n",
    "difference  = b1-b2\n",
    "produkt = b1*b2\n",
    "\n",
    "print(\"Додавання:\", sum)\n",
    "print(\"Віднімання:\", difference)\n",
    "print(\"Множення:\", produkt)\n"
   ]
  },
  {
   "cell_type": "markdown",
   "metadata": {},
   "source": [
    "## Point 6"
   ]
  },
  {
   "cell_type": "code",
   "execution_count": 83,
   "metadata": {},
   "outputs": [
    {
     "name": "stdout",
     "output_type": "stream",
     "text": [
      "Вектор 1: [0.38051337 0.54651242 0.31560614 0.42566103 0.1517884  0.65912847\n",
      " 0.50795597]\n",
      "Вектор 2: [0.45800324 0.13692948 0.07324264 0.82555857 0.16368247 0.50875212\n",
      " 0.42208198]\n",
      "Скалярний добуток: 1.1982111273169558\n"
     ]
    }
   ],
   "source": [
    "\n",
    "c1 = np.random.rand(7)\n",
    "c2 = np.random.rand(7)\n",
    "\n",
    "print(\"Вектор 1:\", c1)\n",
    "print(\"Вектор 2:\", c2)\n",
    "\n",
    "product = np.dot(c1, c2)\n",
    "\n",
    "print(\"Скалярний добуток:\", product)\n"
   ]
  },
  {
   "cell_type": "markdown",
   "metadata": {},
   "source": [
    "## Point 7"
   ]
  },
  {
   "cell_type": "code",
   "execution_count": 84,
   "metadata": {},
   "outputs": [
    {
     "name": "stdout",
     "output_type": "stream",
     "text": [
      "Матриця 1:\n",
      " [[ 3  9]\n",
      " [10  6]]\n",
      "Матриця 2:\n",
      " [[ 6  9 10]\n",
      " [ 7  7  6]]\n",
      "Результат перемноження:\n",
      " [[ 81  90  84]\n",
      " [102 132 136]]\n"
     ]
    }
   ],
   "source": [
    "import numpy as np\n",
    "\n",
    "d1 = np.random.randint(1, 11, size=(2, 2))\n",
    "d2 = np.random.randint(1, 11, size=(2, 3))\n",
    "\n",
    "print(\"Матриця 1:\\n\", d1)\n",
    "print(\"Матриця 2:\\n\", d2)\n",
    "\n",
    "product = np.dot(d1, d2)\n",
    "\n",
    "print(\"Результат перемноження:\\n\", product)\n"
   ]
  },
  {
   "cell_type": "markdown",
   "metadata": {},
   "source": [
    "## Point 8"
   ]
  },
  {
   "cell_type": "code",
   "execution_count": 85,
   "metadata": {},
   "outputs": [
    {
     "name": "stdout",
     "output_type": "stream",
     "text": [
      "Матриця:\n",
      " [[10  6  6]\n",
      " [ 2  2  2]\n",
      " [ 5  6 10]]\n",
      "Обернена матриця:\n",
      " [[ 0.25   -0.75    0.    ]\n",
      " [-0.3125  2.1875 -0.25  ]\n",
      " [ 0.0625 -0.9375  0.25  ]]\n"
     ]
    }
   ],
   "source": [
    "a8 = np.random.randint(1, 11, size=(3, 3))\n",
    "\n",
    "print(\"Матриця:\\n\", a8)\n",
    "\n",
    "try:\n",
    "    inverse_matrix = np.linalg.inv(a8)\n",
    "    print(\"Обернена матриця:\\n\", inverse_matrix)\n",
    "except np.linalg.LinAlgError:\n",
    "    print(\"Матриця не є оборотною.\")\n"
   ]
  },
  {
   "cell_type": "markdown",
   "metadata": {},
   "source": [
    "## Point 9"
   ]
  },
  {
   "cell_type": "code",
   "execution_count": 86,
   "metadata": {},
   "outputs": [
    {
     "name": "stdout",
     "output_type": "stream",
     "text": [
      "Початкова матриця:\n",
      " [[0.90582387 0.45342318 0.57614958 0.96416644]\n",
      " [0.7523458  0.76393034 0.92789727 0.24468482]\n",
      " [0.17330692 0.228164   0.61502643 0.28050029]\n",
      " [0.96521284 0.54336612 0.78051681 0.32570012]]\n",
      "Транспонована матриця:\n",
      " [[0.90582387 0.7523458  0.17330692 0.96521284]\n",
      " [0.45342318 0.76393034 0.228164   0.54336612]\n",
      " [0.57614958 0.92789727 0.61502643 0.78051681]\n",
      " [0.96416644 0.24468482 0.28050029 0.32570012]]\n"
     ]
    }
   ],
   "source": [
    "a9 = np.random.rand(4, 4)\n",
    "\n",
    "print(\"Початкова матриця:\\n\", a9)\n",
    "\n",
    "transposed_matrix = a9.T\n",
    "\n",
    "print(\"Транспонована матриця:\\n\", transposed_matrix)\n"
   ]
  },
  {
   "cell_type": "markdown",
   "metadata": {},
   "source": [
    "## Point 10"
   ]
  },
  {
   "cell_type": "code",
   "execution_count": 87,
   "metadata": {},
   "outputs": [
    {
     "name": "stdout",
     "output_type": "stream",
     "text": [
      "Матриця:\n",
      " [[ 5 10  1  5]\n",
      " [ 4  2  8  2]\n",
      " [ 7  5  9  5]]\n",
      "Вектор:\n",
      " [4 5 5 6]\n",
      "Результат перемноження:\n",
      " [105  78 128]\n"
     ]
    }
   ],
   "source": [
    "\n",
    "a10 = np.random.randint(1, 11, size=(3, 4))\n",
    "v = np.random.randint(1, 11, size=4)\n",
    "\n",
    "print(\"Матриця:\\n\", a10)\n",
    "print(\"Вектор:\\n\", v)\n",
    "\n",
    "result = np.dot(a10, v)\n",
    "\n",
    "print(\"Результат перемноження:\\n\", result)\n"
   ]
  },
  {
   "cell_type": "markdown",
   "metadata": {},
   "source": [
    "## Point 11"
   ]
  },
  {
   "cell_type": "code",
   "execution_count": 88,
   "metadata": {},
   "outputs": [
    {
     "name": "stdout",
     "output_type": "stream",
     "text": [
      "Матриця:\n",
      " [[0.86673772 0.83064603 0.22531285]\n",
      " [0.31039385 0.51882173 0.19523689]]\n",
      "Вектор:\n",
      " [0.80982842 0.02278786 0.67100583]\n",
      "Результат перемноження:\n",
      " [0.87202372 0.39419369]\n"
     ]
    }
   ],
   "source": [
    "a11 = np.random.rand(2, 3)\n",
    "v2 = np.random.rand(3)\n",
    "\n",
    "print(\"Матриця:\\n\", a11)\n",
    "print(\"Вектор:\\n\", v2)\n",
    "\n",
    "result = np.dot(a11, v2)\n",
    "\n",
    "print(\"Результат перемноження:\\n\", result)\n"
   ]
  },
  {
   "cell_type": "markdown",
   "metadata": {},
   "source": [
    "## Point 12"
   ]
  },
  {
   "cell_type": "code",
   "execution_count": 89,
   "metadata": {},
   "outputs": [
    {
     "name": "stdout",
     "output_type": "stream",
     "text": [
      "Матриця 1:\n",
      " [[8 2]\n",
      " [1 5]]\n",
      "Матриця 2:\n",
      " [[ 8  5]\n",
      " [10 10]]\n",
      "Результат поелементного множення:\n",
      " [[64 10]\n",
      " [10 50]]\n"
     ]
    }
   ],
   "source": [
    "e1 = np.random.randint(1, 11, size=(2, 2))\n",
    "e2 = np.random.randint(1, 11, size=(2, 2))\n",
    "\n",
    "print(\"Матриця 1:\\n\", e1)\n",
    "print(\"Матриця 2:\\n\", e2)\n",
    "\n",
    "print(\"Результат поелементного множення:\\n\", e1*e2)\n"
   ]
  },
  {
   "cell_type": "markdown",
   "metadata": {},
   "source": [
    "## Point 13"
   ]
  },
  {
   "cell_type": "code",
   "execution_count": 90,
   "metadata": {},
   "outputs": [
    {
     "name": "stdout",
     "output_type": "stream",
     "text": [
      "Матриця 1:\n",
      " [[ 4  5]\n",
      " [ 1 10]]\n",
      "Матриця 2:\n",
      " [[ 4  9]\n",
      " [ 9 10]]\n",
      "Добуток:\n",
      " [[ 61  86]\n",
      " [ 94 109]]\n"
     ]
    }
   ],
   "source": [
    "f1 = np.random.randint(1, 11, size=(2, 2))\n",
    "f2 = np.random.randint(1, 11, size=(2, 2))\n",
    "\n",
    "print(\"Матриця 1:\\n\", f1)\n",
    "print(\"Матриця 2:\\n\", f2)\n",
    "\n",
    "product13 = np.dot(f1, f2)\n",
    "\n",
    "print(\"Добуток:\\n\", product13)"
   ]
  },
  {
   "cell_type": "markdown",
   "metadata": {},
   "source": [
    "## Point 14"
   ]
  },
  {
   "cell_type": "code",
   "execution_count": 91,
   "metadata": {},
   "outputs": [
    {
     "name": "stdout",
     "output_type": "stream",
     "text": [
      "Матриця:\n",
      " [[82 78 21 75 31]\n",
      " [78  3 95 37  2]\n",
      " [84 90 38 33 96]\n",
      " [41 25 66 82 58]\n",
      " [12 64 46  3 34]]\n",
      "Сума елементів матриці: 1274\n"
     ]
    }
   ],
   "source": [
    "a14 = np.random.randint(1, 101, size=(5, 5))\n",
    "\n",
    "print(\"Матриця:\\n\", a14)\n",
    "\n",
    "print(\"Сума елементів матриці:\", a14.sum())\n"
   ]
  },
  {
   "cell_type": "markdown",
   "metadata": {},
   "source": [
    "## Point 15"
   ]
  },
  {
   "cell_type": "code",
   "execution_count": 92,
   "metadata": {},
   "outputs": [
    {
     "name": "stdout",
     "output_type": "stream",
     "text": [
      "Матриця 1:\n",
      " [[1 6 3 8]\n",
      " [7 3 7 2]\n",
      " [8 5 9 1]\n",
      " [7 3 2 3]]\n",
      "Матриця 2:\n",
      " [[ 2  9  5  8]\n",
      " [ 7 10  5  3]\n",
      " [ 6  1  4  8]\n",
      " [ 9  1  3  3]]\n",
      "Різниця матриць:\n",
      " [[-1 -3 -2  0]\n",
      " [ 0 -7  2 -1]\n",
      " [ 2  4  5 -7]\n",
      " [-2  2 -1  0]]\n"
     ]
    }
   ],
   "source": [
    "g1 = np.random.randint(1, 11, size=(4, 4))\n",
    "g2 = np.random.randint(1, 11, size=(4, 4))\n",
    "\n",
    "print(\"Матриця 1:\\n\", g1)\n",
    "print(\"Матриця 2:\\n\", g2)\n",
    "\n",
    "print(\"Різниця матриць:\\n\", g1-g2)"
   ]
  },
  {
   "cell_type": "markdown",
   "metadata": {},
   "source": [
    "## Point 16"
   ]
  },
  {
   "cell_type": "code",
   "execution_count": 93,
   "metadata": {},
   "outputs": [
    {
     "name": "stdout",
     "output_type": "stream",
     "text": [
      "Матриця:\n",
      " [[0.40084245 0.7959949  0.65709441]\n",
      " [0.31170817 0.94811089 0.2153782 ]\n",
      " [0.14691562 0.44654986 0.62572124]]\n",
      "Вектор-стовпчик із сумою елементів кожного рядка:\n",
      " [[1.85393176]\n",
      " [1.47519727]\n",
      " [1.21918672]]\n"
     ]
    }
   ],
   "source": [
    "a16 = np.random.rand(3, 3)\n",
    "\n",
    "print(\"Матриця:\\n\", a16)\n",
    "\n",
    "sum_vec = np.sum(a16, axis=1, keepdims=True)\n",
    "\n",
    "print(\"Вектор-стовпчик із сумою елементів кожного рядка:\\n\", sum_vec)\n"
   ]
  },
  {
   "cell_type": "markdown",
   "metadata": {},
   "source": [
    "## Point 17"
   ]
  },
  {
   "cell_type": "code",
   "execution_count": 94,
   "metadata": {},
   "outputs": [
    {
     "name": "stdout",
     "output_type": "stream",
     "text": [
      "Початкова матриця:\n",
      " [[10  9  4 10]\n",
      " [10  9 10  2]\n",
      " [ 5 10  3  5]]\n",
      "Матриця з квадратами чисел:\n",
      " [[100  81  16 100]\n",
      " [100  81 100   4]\n",
      " [ 25 100   9  25]]\n",
      "Матриця з квадратами чисел:\n",
      " [[100  81  16 100]\n",
      " [100  81 100   4]\n",
      " [ 25 100   9  25]]\n"
     ]
    }
   ],
   "source": [
    "\n",
    "a17 = np.random.randint(1, 11, size=(3, 4))\n",
    "\n",
    "print(\"Початкова матриця:\\n\", a17)\n",
    "\n",
    "squared = np.square(a17)\n",
    "\n",
    "print(\"Матриця з квадратами чисел:\\n\", squared)\n",
    "print(\"Матриця з квадратами чисел:\\n\", a17**2)\n"
   ]
  },
  {
   "cell_type": "markdown",
   "metadata": {},
   "source": [
    "## Point 18"
   ]
  },
  {
   "cell_type": "code",
   "execution_count": 95,
   "metadata": {},
   "outputs": [
    {
     "name": "stdout",
     "output_type": "stream",
     "text": [
      "Початковий вектор:\n",
      " [ 6  2  1 19]\n",
      "Вектор з квадратними коренями чисел:\n",
      " [2.44948974 1.41421356 1.         4.35889894]\n"
     ]
    }
   ],
   "source": [
    "v18 = np.random.randint(1, 51, size=4)\n",
    "\n",
    "print(\"Початковий вектор:\\n\", v18)\n",
    "\n",
    "print(\"Вектор з квадратними коренями чисел:\\n\", np.sqrt(v18))\n"
   ]
  }
 ],
 "metadata": {
  "kernelspec": {
   "display_name": "Python 3",
   "language": "python",
   "name": "python3"
  },
  "language_info": {
   "codemirror_mode": {
    "name": "ipython",
    "version": 3
   },
   "file_extension": ".py",
   "mimetype": "text/x-python",
   "name": "python",
   "nbconvert_exporter": "python",
   "pygments_lexer": "ipython3",
   "version": "3.10.8"
  }
 },
 "nbformat": 4,
 "nbformat_minor": 2
}
